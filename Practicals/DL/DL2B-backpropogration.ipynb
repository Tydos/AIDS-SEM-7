{
 "cells": [
  {
   "cell_type": "code",
   "execution_count": 1,
   "id": "8fd111de",
   "metadata": {},
   "outputs": [],
   "source": [
    "import numpy as np\n",
    "import pandas as pd"
   ]
  },
  {
   "cell_type": "code",
   "execution_count": 2,
   "id": "8b4b1a3f",
   "metadata": {},
   "outputs": [],
   "source": [
    "df = pd.DataFrame([[8,8,4],[7,9,5],[6,10,6],[5,12,7]],columns=['cgpa','profile_score','lpa'])"
   ]
  },
  {
   "cell_type": "code",
   "execution_count": 3,
   "id": "7bb946c6",
   "metadata": {},
   "outputs": [
    {
     "data": {
      "text/html": [
       "<div>\n",
       "<style scoped>\n",
       "    .dataframe tbody tr th:only-of-type {\n",
       "        vertical-align: middle;\n",
       "    }\n",
       "\n",
       "    .dataframe tbody tr th {\n",
       "        vertical-align: top;\n",
       "    }\n",
       "\n",
       "    .dataframe thead th {\n",
       "        text-align: right;\n",
       "    }\n",
       "</style>\n",
       "<table border=\"1\" class=\"dataframe\">\n",
       "  <thead>\n",
       "    <tr style=\"text-align: right;\">\n",
       "      <th></th>\n",
       "      <th>cgpa</th>\n",
       "      <th>profile_score</th>\n",
       "      <th>lpa</th>\n",
       "    </tr>\n",
       "  </thead>\n",
       "  <tbody>\n",
       "    <tr>\n",
       "      <th>0</th>\n",
       "      <td>8</td>\n",
       "      <td>8</td>\n",
       "      <td>4</td>\n",
       "    </tr>\n",
       "    <tr>\n",
       "      <th>1</th>\n",
       "      <td>7</td>\n",
       "      <td>9</td>\n",
       "      <td>5</td>\n",
       "    </tr>\n",
       "    <tr>\n",
       "      <th>2</th>\n",
       "      <td>6</td>\n",
       "      <td>10</td>\n",
       "      <td>6</td>\n",
       "    </tr>\n",
       "    <tr>\n",
       "      <th>3</th>\n",
       "      <td>5</td>\n",
       "      <td>12</td>\n",
       "      <td>7</td>\n",
       "    </tr>\n",
       "  </tbody>\n",
       "</table>\n",
       "</div>"
      ],
      "text/plain": [
       "   cgpa  profile_score  lpa\n",
       "0     8              8    4\n",
       "1     7              9    5\n",
       "2     6             10    6\n",
       "3     5             12    7"
      ]
     },
     "execution_count": 3,
     "metadata": {},
     "output_type": "execute_result"
    }
   ],
   "source": [
    "df"
   ]
  },
  {
   "cell_type": "code",
   "execution_count": 4,
   "id": "4653b274",
   "metadata": {},
   "outputs": [],
   "source": [
    "import tensorflow\n",
    "from tensorflow import keras\n",
    "from keras import Sequential\n",
    "from keras.layers import Dense"
   ]
  },
  {
   "cell_type": "code",
   "execution_count": 5,
   "id": "8a9d7ba5",
   "metadata": {},
   "outputs": [],
   "source": [
    "model = Sequential()\n",
    "\n",
    "model.add(Dense(2,activation='linear',input_dim=2))\n",
    "model.add(Dense(1,activation='linear'))"
   ]
  },
  {
   "cell_type": "code",
   "execution_count": 6,
   "id": "9edd2eca",
   "metadata": {},
   "outputs": [
    {
     "name": "stdout",
     "output_type": "stream",
     "text": [
      "Model: \"sequential\"\n",
      "_________________________________________________________________\n",
      " Layer (type)                Output Shape              Param #   \n",
      "=================================================================\n",
      " dense (Dense)               (None, 2)                 6         \n",
      "                                                                 \n",
      " dense_1 (Dense)             (None, 1)                 3         \n",
      "                                                                 \n",
      "=================================================================\n",
      "Total params: 9\n",
      "Trainable params: 9\n",
      "Non-trainable params: 0\n",
      "_________________________________________________________________\n"
     ]
    }
   ],
   "source": [
    "model.summary()"
   ]
  },
  {
   "cell_type": "code",
   "execution_count": 7,
   "id": "d82f6f64",
   "metadata": {},
   "outputs": [
    {
     "data": {
      "text/plain": [
       "[array([[-0.58026016,  0.95435727],\n",
       "        [-0.29844964,  0.09312904]], dtype=float32),\n",
       " array([0., 0.], dtype=float32),\n",
       " array([[ 0.49506593],\n",
       "        [-0.578511  ]], dtype=float32),\n",
       " array([0.], dtype=float32)]"
      ]
     },
     "execution_count": 7,
     "metadata": {},
     "output_type": "execute_result"
    }
   ],
   "source": [
    "model.get_weights()"
   ]
  },
  {
   "cell_type": "code",
   "execution_count": 8,
   "id": "31947771",
   "metadata": {},
   "outputs": [],
   "source": [
    "new_weights = [np.array([[0.1,0.1],[0.1,0.1]],dtype=np.float32),\n",
    "               np.array([0.,0.],dtype=np.float32),\n",
    "               np.array([[0.1],[0.1]],dtype=np.float32),\n",
    "               np.array([0.],dtype=np.float32)]"
   ]
  },
  {
   "cell_type": "code",
   "execution_count": 9,
   "id": "eef15e82",
   "metadata": {},
   "outputs": [],
   "source": [
    "model.set_weights(new_weights)"
   ]
  },
  {
   "cell_type": "code",
   "execution_count": 10,
   "id": "1d9a812f",
   "metadata": {},
   "outputs": [
    {
     "data": {
      "text/plain": [
       "[array([[0.1, 0.1],\n",
       "        [0.1, 0.1]], dtype=float32),\n",
       " array([0., 0.], dtype=float32),\n",
       " array([[0.1],\n",
       "        [0.1]], dtype=float32),\n",
       " array([0.], dtype=float32)]"
      ]
     },
     "execution_count": 10,
     "metadata": {},
     "output_type": "execute_result"
    }
   ],
   "source": [
    "model.get_weights()"
   ]
  },
  {
   "cell_type": "code",
   "execution_count": 11,
   "id": "aa3e0b94",
   "metadata": {},
   "outputs": [],
   "source": [
    "optimizer =  keras.optimizers.Adam(learning_rate=0.001)\n",
    "model.compile(loss='mean_squared_error',optimizer=optimizer)"
   ]
  },
  {
   "cell_type": "code",
   "execution_count": 12,
   "id": "b2c897b6",
   "metadata": {},
   "outputs": [
    {
     "name": "stdout",
     "output_type": "stream",
     "text": [
      "Epoch 1/75\n",
      "4/4 [==============================] - 1s 3ms/step - loss: 27.8838\n",
      "Epoch 2/75\n",
      "4/4 [==============================] - 0s 517us/step - loss: 27.5814\n",
      "Epoch 3/75\n",
      "4/4 [==============================] - 0s 7ms/step - loss: 27.2431\n",
      "Epoch 4/75\n",
      "4/4 [==============================] - 0s 6ms/step - loss: 26.8885\n",
      "Epoch 5/75\n",
      "4/4 [==============================] - 0s 8ms/step - loss: 26.5484\n",
      "Epoch 6/75\n",
      "4/4 [==============================] - 0s 1ms/step - loss: 26.1994\n",
      "Epoch 7/75\n",
      "4/4 [==============================] - 0s 5ms/step - loss: 25.8085\n",
      "Epoch 8/75\n",
      "4/4 [==============================] - 0s 6ms/step - loss: 25.4401\n",
      "Epoch 9/75\n",
      "4/4 [==============================] - 0s 6ms/step - loss: 25.0358\n",
      "Epoch 10/75\n",
      "4/4 [==============================] - 0s 0s/step - loss: 24.6567\n",
      "Epoch 11/75\n",
      "4/4 [==============================] - 0s 5ms/step - loss: 24.2202\n",
      "Epoch 12/75\n",
      "4/4 [==============================] - 0s 6ms/step - loss: 23.7828\n",
      "Epoch 13/75\n",
      "4/4 [==============================] - 0s 7ms/step - loss: 23.3979\n",
      "Epoch 14/75\n",
      "4/4 [==============================] - 0s 6ms/step - loss: 22.9309\n",
      "Epoch 15/75\n",
      "4/4 [==============================] - 0s 5ms/step - loss: 22.4725\n",
      "Epoch 16/75\n",
      "4/4 [==============================] - 0s 6ms/step - loss: 22.0078\n",
      "Epoch 17/75\n",
      "4/4 [==============================] - 0s 6ms/step - loss: 21.5208\n",
      "Epoch 18/75\n",
      "4/4 [==============================] - 0s 4ms/step - loss: 21.0284\n",
      "Epoch 19/75\n",
      "4/4 [==============================] - 0s 0s/step - loss: 20.5276\n",
      "Epoch 20/75\n",
      "4/4 [==============================] - 0s 6ms/step - loss: 20.0647\n",
      "Epoch 21/75\n",
      "4/4 [==============================] - 0s 0s/step - loss: 19.5619\n",
      "Epoch 22/75\n",
      "4/4 [==============================] - 0s 1ms/step - loss: 19.0784\n",
      "Epoch 23/75\n",
      "4/4 [==============================] - 0s 8ms/step - loss: 18.5095\n",
      "Epoch 24/75\n",
      "4/4 [==============================] - 0s 2ms/step - loss: 17.9844\n",
      "Epoch 25/75\n",
      "4/4 [==============================] - 0s 3ms/step - loss: 17.5124\n",
      "Epoch 26/75\n",
      "4/4 [==============================] - 0s 6ms/step - loss: 16.9822\n",
      "Epoch 27/75\n",
      "4/4 [==============================] - 0s 7ms/step - loss: 16.4605\n",
      "Epoch 28/75\n",
      "4/4 [==============================] - 0s 5ms/step - loss: 15.9017\n",
      "Epoch 29/75\n",
      "4/4 [==============================] - 0s 6ms/step - loss: 15.3804\n",
      "Epoch 30/75\n",
      "4/4 [==============================] - 0s 5ms/step - loss: 14.8862\n",
      "Epoch 31/75\n",
      "4/4 [==============================] - 0s 4ms/step - loss: 14.3736\n",
      "Epoch 32/75\n",
      "4/4 [==============================] - 0s 6ms/step - loss: 13.8082\n",
      "Epoch 33/75\n",
      "4/4 [==============================] - 0s 6ms/step - loss: 13.3343\n",
      "Epoch 34/75\n",
      "4/4 [==============================] - 0s 4ms/step - loss: 12.7832\n",
      "Epoch 35/75\n",
      "4/4 [==============================] - 0s 2ms/step - loss: 12.3047\n",
      "Epoch 36/75\n",
      "4/4 [==============================] - 0s 2ms/step - loss: 11.7629\n",
      "Epoch 37/75\n",
      "4/4 [==============================] - 0s 7ms/step - loss: 11.2782\n",
      "Epoch 38/75\n",
      "4/4 [==============================] - 0s 3ms/step - loss: 10.7981\n",
      "Epoch 39/75\n",
      "4/4 [==============================] - 0s 3ms/step - loss: 10.3064\n",
      "Epoch 40/75\n",
      "4/4 [==============================] - 0s 3ms/step - loss: 9.8785\n",
      "Epoch 41/75\n",
      "4/4 [==============================] - 0s 2ms/step - loss: 9.3981\n",
      "Epoch 42/75\n",
      "4/4 [==============================] - 0s 5ms/step - loss: 8.9704\n",
      "Epoch 43/75\n",
      "4/4 [==============================] - 0s 7ms/step - loss: 8.5166\n",
      "Epoch 44/75\n",
      "4/4 [==============================] - 0s 4ms/step - loss: 8.0945\n",
      "Epoch 45/75\n",
      "4/4 [==============================] - 0s 6ms/step - loss: 7.7159\n",
      "Epoch 46/75\n",
      "4/4 [==============================] - 0s 6ms/step - loss: 7.3350\n",
      "Epoch 47/75\n",
      "4/4 [==============================] - 0s 2ms/step - loss: 6.8639\n",
      "Epoch 48/75\n",
      "4/4 [==============================] - 0s 5ms/step - loss: 6.5729\n",
      "Epoch 49/75\n",
      "4/4 [==============================] - 0s 7ms/step - loss: 6.1711\n",
      "Epoch 50/75\n",
      "4/4 [==============================] - 0s 215us/step - loss: 5.8095\n",
      "Epoch 51/75\n",
      "4/4 [==============================] - 0s 4ms/step - loss: 5.5068\n",
      "Epoch 52/75\n",
      "4/4 [==============================] - 0s 4ms/step - loss: 5.2322\n",
      "Epoch 53/75\n",
      "4/4 [==============================] - 0s 4ms/step - loss: 4.8618\n",
      "Epoch 54/75\n",
      "4/4 [==============================] - 0s 6ms/step - loss: 4.6496\n",
      "Epoch 55/75\n",
      "4/4 [==============================] - 0s 3ms/step - loss: 4.3039\n",
      "Epoch 56/75\n",
      "4/4 [==============================] - 0s 0s/step - loss: 4.0952\n",
      "Epoch 57/75\n",
      "4/4 [==============================] - 0s 2ms/step - loss: 3.8364\n",
      "Epoch 58/75\n",
      "4/4 [==============================] - 0s 4ms/step - loss: 3.6119\n",
      "Epoch 59/75\n",
      "4/4 [==============================] - 0s 0s/step - loss: 3.4520\n",
      "Epoch 60/75\n",
      "4/4 [==============================] - 0s 1ms/step - loss: 3.2130\n",
      "Epoch 61/75\n",
      "4/4 [==============================] - 0s 5ms/step - loss: 2.9988\n",
      "Epoch 62/75\n",
      "4/4 [==============================] - 0s 3ms/step - loss: 2.8362\n",
      "Epoch 63/75\n",
      "4/4 [==============================] - 0s 592us/step - loss: 2.6541\n",
      "Epoch 64/75\n",
      "4/4 [==============================] - 0s 2ms/step - loss: 2.5271\n",
      "Epoch 65/75\n",
      "4/4 [==============================] - 0s 6ms/step - loss: 2.3938\n",
      "Epoch 66/75\n",
      "4/4 [==============================] - 0s 4ms/step - loss: 2.2923\n",
      "Epoch 67/75\n",
      "4/4 [==============================] - 0s 0s/step - loss: 2.1196\n",
      "Epoch 68/75\n",
      "4/4 [==============================] - 0s 876us/step - loss: 2.0313\n",
      "Epoch 69/75\n",
      "4/4 [==============================] - 0s 2ms/step - loss: 1.9359\n",
      "Epoch 70/75\n",
      "4/4 [==============================] - 0s 5ms/step - loss: 1.8588\n",
      "Epoch 71/75\n",
      "4/4 [==============================] - 0s 0s/step - loss: 1.7441\n",
      "Epoch 72/75\n",
      "4/4 [==============================] - 0s 1ms/step - loss: 1.6645\n",
      "Epoch 73/75\n",
      "4/4 [==============================] - 0s 5ms/step - loss: 1.6072\n",
      "Epoch 74/75\n",
      "4/4 [==============================] - 0s 0s/step - loss: 1.5729\n",
      "Epoch 75/75\n",
      "4/4 [==============================] - 0s 662us/step - loss: 1.5081\n"
     ]
    },
    {
     "data": {
      "text/plain": [
       "<keras.callbacks.History at 0x11b0a8f7b20>"
      ]
     },
     "execution_count": 12,
     "metadata": {},
     "output_type": "execute_result"
    }
   ],
   "source": [
    "model.fit(df.iloc[:,0:-1].values,df['lpa'].values,epochs=75,verbose=1,batch_size=1)"
   ]
  },
  {
   "cell_type": "code",
   "execution_count": 18,
   "id": "7202edca",
   "metadata": {},
   "outputs": [
    {
     "data": {
      "text/plain": [
       "[array([[0.37387073, 0.37387073],\n",
       "        [0.36561698, 0.36561698]], dtype=float32),\n",
       " array([0.2724311, 0.2724311], dtype=float32),\n",
       " array([[0.37302735],\n",
       "        [0.37302735]], dtype=float32),\n",
       " array([0.20472449], dtype=float32)]"
      ]
     },
     "execution_count": 18,
     "metadata": {},
     "output_type": "execute_result"
    }
   ],
   "source": [
    "model.get_weights()"
   ]
  },
  {
   "cell_type": "code",
   "execution_count": null,
   "id": "3b0ce36b",
   "metadata": {},
   "outputs": [],
   "source": []
  }
 ],
 "metadata": {
  "kernelspec": {
   "display_name": "Python 3 (ipykernel)",
   "language": "python",
   "name": "python3"
  },
  "language_info": {
   "codemirror_mode": {
    "name": "ipython",
    "version": 3
   },
   "file_extension": ".py",
   "mimetype": "text/x-python",
   "name": "python",
   "nbconvert_exporter": "python",
   "pygments_lexer": "ipython3",
   "version": "3.11.1"
  }
 },
 "nbformat": 4,
 "nbformat_minor": 5
}
