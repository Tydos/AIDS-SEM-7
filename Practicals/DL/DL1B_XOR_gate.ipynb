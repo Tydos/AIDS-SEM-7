{
  "nbformat": 4,
  "nbformat_minor": 0,
  "metadata": {
    "colab": {
      "provenance": []
    },
    "kernelspec": {
      "name": "python3",
      "display_name": "Python 3"
    },
    "language_info": {
      "name": "python"
    }
  },
  "cells": [
    {
      "cell_type": "code",
      "execution_count": 1,
      "metadata": {
        "id": "sNlGkI1K5LaW"
      },
      "outputs": [],
      "source": [
        "import numpy as np\n",
        "import pandas as pd\n",
        "import tensorflow\n",
        "from tensorflow import keras\n",
        "from keras import Sequential\n",
        "from keras.layers import Dense"
      ]
    },
    {
      "cell_type": "code",
      "source": [
        "df = pd.DataFrame([[0,0,0],[0,1,1],[1,0,1],[1,1,0]],columns=['x','y','xor'])"
      ],
      "metadata": {
        "id": "6Jj26t9O5Ri4"
      },
      "execution_count": 2,
      "outputs": []
    },
    {
      "cell_type": "code",
      "source": [
        "model = Sequential()\n",
        "\n",
        "model.add(Dense(4,activation='sigmoid',input_dim=2))\n",
        "# model.add(Dense(2,activation='sigmoid'))\n",
        "model.add(Dense(1,activation='sigmoid'))"
      ],
      "metadata": {
        "id": "wgzMrcH85SMR"
      },
      "execution_count": 3,
      "outputs": []
    },
    {
      "cell_type": "code",
      "source": [
        "model.summary()"
      ],
      "metadata": {
        "colab": {
          "base_uri": "https://localhost:8080/"
        },
        "id": "a27Rhrdy5Vfv",
        "outputId": "f85ba35e-3f0f-4161-9cec-04df7f9d24e7"
      },
      "execution_count": 4,
      "outputs": [
        {
          "output_type": "stream",
          "name": "stdout",
          "text": [
            "Model: \"sequential\"\n",
            "_________________________________________________________________\n",
            " Layer (type)                Output Shape              Param #   \n",
            "=================================================================\n",
            " dense (Dense)               (None, 4)                 12        \n",
            "                                                                 \n",
            " dense_1 (Dense)             (None, 1)                 5         \n",
            "                                                                 \n",
            "=================================================================\n",
            "Total params: 17 (68.00 Byte)\n",
            "Trainable params: 17 (68.00 Byte)\n",
            "Non-trainable params: 0 (0.00 Byte)\n",
            "_________________________________________________________________\n"
          ]
        }
      ]
    },
    {
      "cell_type": "code",
      "source": [
        "optimizer =  keras.optimizers.Adam(learning_rate=0.1)\n",
        "model.compile(loss='binary_crossentropy',optimizer=optimizer,metrics=['accuracy'])"
      ],
      "metadata": {
        "id": "mc5rvGNy5WJr"
      },
      "execution_count": 5,
      "outputs": []
    },
    {
      "cell_type": "code",
      "source": [
        "model.fit(df.iloc[:,0:-1].values,df['xor'].values,epochs=10,verbose=1,batch_size=1)"
      ],
      "metadata": {
        "colab": {
          "base_uri": "https://localhost:8080/"
        },
        "id": "2XOEq04I5c2u",
        "outputId": "8b579599-e7c8-4ba5-c42b-8f13408c00ef"
      },
      "execution_count": 6,
      "outputs": [
        {
          "output_type": "stream",
          "name": "stdout",
          "text": [
            "Epoch 1/10\n",
            "4/4 [==============================] - 1s 7ms/step - loss: 0.9297 - accuracy: 0.5000\n",
            "Epoch 2/10\n",
            "4/4 [==============================] - 0s 3ms/step - loss: 0.7156 - accuracy: 0.5000\n",
            "Epoch 3/10\n",
            "4/4 [==============================] - 0s 4ms/step - loss: 0.7089 - accuracy: 0.5000\n",
            "Epoch 4/10\n",
            "4/4 [==============================] - 0s 4ms/step - loss: 0.7185 - accuracy: 0.2500\n",
            "Epoch 5/10\n",
            "4/4 [==============================] - 0s 5ms/step - loss: 0.7020 - accuracy: 0.5000\n",
            "Epoch 6/10\n",
            "4/4 [==============================] - 0s 3ms/step - loss: 0.7018 - accuracy: 0.2500\n",
            "Epoch 7/10\n",
            "4/4 [==============================] - 0s 3ms/step - loss: 0.6993 - accuracy: 0.5000\n",
            "Epoch 8/10\n",
            "4/4 [==============================] - 0s 3ms/step - loss: 0.6959 - accuracy: 0.5000\n",
            "Epoch 9/10\n",
            "4/4 [==============================] - 0s 3ms/step - loss: 0.6974 - accuracy: 0.5000\n",
            "Epoch 10/10\n",
            "4/4 [==============================] - 0s 3ms/step - loss: 0.6917 - accuracy: 0.5000\n"
          ]
        },
        {
          "output_type": "execute_result",
          "data": {
            "text/plain": [
              "<keras.src.callbacks.History at 0x7810391bc220>"
            ]
          },
          "metadata": {},
          "execution_count": 6
        }
      ]
    },
    {
      "cell_type": "code",
      "source": [
        "x_new = np.array([[0, 0], [0, 1], [1, 0], [1, 1]])\n",
        "predictions = [1 if prediction > 0.5 else 0 for prediction in model.predict(x_new)]\n",
        "for i in range(len(x_new)):\n",
        "    print(f\"Input: {x_new[i]}, Predicted Output: {predictions[i]}\")"
      ],
      "metadata": {
        "colab": {
          "base_uri": "https://localhost:8080/"
        },
        "id": "HHHFV3qh5hKl",
        "outputId": "6bb1a9b4-efb5-448f-dd85-25970e988cfc"
      },
      "execution_count": 7,
      "outputs": [
        {
          "output_type": "stream",
          "name": "stdout",
          "text": [
            "1/1 [==============================] - 0s 158ms/step\n",
            "Input: [0 0], Predicted Output: 1\n",
            "Input: [0 1], Predicted Output: 1\n",
            "Input: [1 0], Predicted Output: 1\n",
            "Input: [1 1], Predicted Output: 1\n"
          ]
        }
      ]
    }
  ]
}