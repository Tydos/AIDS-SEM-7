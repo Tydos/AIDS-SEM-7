{
 "cells": [
  {
   "cell_type": "code",
   "execution_count": 3,
   "id": "5d0e6422",
   "metadata": {},
   "outputs": [],
   "source": [
    "import pandas as pd\n",
    "import numpy as np\n",
    "import tensorflow as tf\n",
    "from tensorflow import keras\n",
    "from keras import Sequential\n",
    "from keras.layers import Dense,Flatten,Dropout"
   ]
  },
  {
   "cell_type": "code",
   "execution_count": 4,
   "id": "a6eac9db",
   "metadata": {},
   "outputs": [],
   "source": [
    "from tensorflow.keras.datasets import mnist\n",
    "(X_train,Y_train),(X_test,Y_test) = mnist.load_data()\n",
    "X_train, X_test = X_train / 255.0, X_test / 255.0"
   ]
  },
  {
   "cell_type": "code",
   "execution_count": 5,
   "id": "15c3baa2",
   "metadata": {},
   "outputs": [
    {
     "data": {
      "text/plain": [
       "(60000, 28, 28)"
      ]
     },
     "execution_count": 5,
     "metadata": {},
     "output_type": "execute_result"
    }
   ],
   "source": [
    "X_train.shape"
   ]
  },
  {
   "cell_type": "code",
   "execution_count": 6,
   "id": "c9026a79",
   "metadata": {},
   "outputs": [],
   "source": [
    "model = Sequential()\n",
    "model.add(Flatten(input_shape=(28, 28)))\n",
    "model.add(Dense(128, activation='relu'))\n",
    "model.add(Dropout(0.2))\n",
    "model.add(Dense(10, activation='softmax'))"
   ]
  },
  {
   "cell_type": "code",
   "execution_count": 7,
   "id": "0d043780",
   "metadata": {},
   "outputs": [],
   "source": [
    "#Stochastic Gradient Des"
   ]
  },
  {
   "cell_type": "code",
   "execution_count": 8,
   "id": "204dbccc",
   "metadata": {},
   "outputs": [],
   "source": [
    "optimizer = keras.optimizers.SGD(learning_rate=0.1)\n",
    "model.compile(loss='sparse_categorical_crossentropy',optimizer=optimizer,metrics=['accuracy'])"
   ]
  },
  {
   "cell_type": "code",
   "execution_count": 9,
   "id": "be8190f6",
   "metadata": {},
   "outputs": [
    {
     "name": "stdout",
     "output_type": "stream",
     "text": [
      "Epoch 1/10\n",
      "1875/1875 [==============================] - 5s 2ms/step - loss: 0.3330 - accuracy: 0.9029 - val_loss: 0.1690 - val_accuracy: 0.9490\n",
      "Epoch 2/10\n",
      "1875/1875 [==============================] - 4s 2ms/step - loss: 0.1733 - accuracy: 0.9496 - val_loss: 0.1205 - val_accuracy: 0.9635\n",
      "Epoch 3/10\n",
      "1875/1875 [==============================] - 4s 2ms/step - loss: 0.1344 - accuracy: 0.9598 - val_loss: 0.1003 - val_accuracy: 0.9705\n",
      "Epoch 4/10\n",
      "1875/1875 [==============================] - 5s 2ms/step - loss: 0.1149 - accuracy: 0.9655 - val_loss: 0.0931 - val_accuracy: 0.9701\n",
      "Epoch 5/10\n",
      "1875/1875 [==============================] - 4s 2ms/step - loss: 0.0995 - accuracy: 0.9703 - val_loss: 0.0846 - val_accuracy: 0.9737\n",
      "Epoch 6/10\n",
      "1875/1875 [==============================] - 4s 2ms/step - loss: 0.0885 - accuracy: 0.9736 - val_loss: 0.0789 - val_accuracy: 0.9757\n",
      "Epoch 7/10\n",
      "1875/1875 [==============================] - 5s 3ms/step - loss: 0.0789 - accuracy: 0.9759 - val_loss: 0.0773 - val_accuracy: 0.9753\n",
      "Epoch 8/10\n",
      "1875/1875 [==============================] - 4s 2ms/step - loss: 0.0739 - accuracy: 0.9773 - val_loss: 0.0690 - val_accuracy: 0.9780\n",
      "Epoch 9/10\n",
      "1875/1875 [==============================] - 4s 2ms/step - loss: 0.0671 - accuracy: 0.9792 - val_loss: 0.0688 - val_accuracy: 0.9782\n",
      "Epoch 10/10\n",
      "1875/1875 [==============================] - 4s 2ms/step - loss: 0.0628 - accuracy: 0.9805 - val_loss: 0.0676 - val_accuracy: 0.9790\n"
     ]
    },
    {
     "data": {
      "text/plain": [
       "<keras.callbacks.History at 0x22824f22730>"
      ]
     },
     "execution_count": 9,
     "metadata": {},
     "output_type": "execute_result"
    }
   ],
   "source": [
    "model.fit(X_train, Y_train, validation_data=(X_test, Y_test), epochs=10)"
   ]
  },
  {
   "cell_type": "code",
   "execution_count": 10,
   "id": "793cd394",
   "metadata": {},
   "outputs": [],
   "source": [
    "#Stochastic Gradient Descent with Momentum"
   ]
  },
  {
   "cell_type": "code",
   "execution_count": 11,
   "id": "26c53206",
   "metadata": {},
   "outputs": [],
   "source": [
    "optimizer1 = keras.optimizers.SGD(learning_rate=0.1,momentum=0.9)\n",
    "model.compile(loss='sparse_categorical_crossentropy',optimizer=optimizer1,metrics=['accuracy'])"
   ]
  },
  {
   "cell_type": "code",
   "execution_count": 12,
   "id": "05682a6c",
   "metadata": {},
   "outputs": [
    {
     "name": "stdout",
     "output_type": "stream",
     "text": [
      "Epoch 1/10\n",
      "1875/1875 [==============================] - 5s 2ms/step - loss: 0.3711 - accuracy: 0.8974 - val_loss: 0.2673 - val_accuracy: 0.9308\n",
      "Epoch 2/10\n",
      "1875/1875 [==============================] - 3s 2ms/step - loss: 0.2993 - accuracy: 0.9215 - val_loss: 0.1979 - val_accuracy: 0.9449\n",
      "Epoch 3/10\n",
      "1875/1875 [==============================] - 4s 2ms/step - loss: 0.2636 - accuracy: 0.9333 - val_loss: 0.2350 - val_accuracy: 0.9470\n",
      "Epoch 4/10\n",
      "1875/1875 [==============================] - 3s 2ms/step - loss: 0.2409 - accuracy: 0.9386 - val_loss: 0.1949 - val_accuracy: 0.9550\n",
      "Epoch 5/10\n",
      "1875/1875 [==============================] - 3s 2ms/step - loss: 0.2307 - accuracy: 0.9433 - val_loss: 0.1972 - val_accuracy: 0.9544\n",
      "Epoch 6/10\n",
      "1875/1875 [==============================] - 3s 2ms/step - loss: 0.2223 - accuracy: 0.9443 - val_loss: 0.1774 - val_accuracy: 0.9602\n",
      "Epoch 7/10\n",
      "1875/1875 [==============================] - 3s 2ms/step - loss: 0.2149 - accuracy: 0.9481 - val_loss: 0.2015 - val_accuracy: 0.9609\n",
      "Epoch 8/10\n",
      "1875/1875 [==============================] - 4s 2ms/step - loss: 0.2076 - accuracy: 0.9500 - val_loss: 0.2153 - val_accuracy: 0.9558\n",
      "Epoch 9/10\n",
      "1875/1875 [==============================] - 4s 2ms/step - loss: 0.2000 - accuracy: 0.9516 - val_loss: 0.2011 - val_accuracy: 0.9575\n",
      "Epoch 10/10\n",
      "1875/1875 [==============================] - 3s 2ms/step - loss: 0.1992 - accuracy: 0.9521 - val_loss: 0.1905 - val_accuracy: 0.9618\n"
     ]
    },
    {
     "data": {
      "text/plain": [
       "<keras.callbacks.History at 0x2282a1c0460>"
      ]
     },
     "execution_count": 12,
     "metadata": {},
     "output_type": "execute_result"
    }
   ],
   "source": [
    "model.fit(X_train, Y_train, validation_data=(X_test, Y_test), epochs=10)"
   ]
  },
  {
   "cell_type": "code",
   "execution_count": 13,
   "id": "1adbd75a",
   "metadata": {},
   "outputs": [],
   "source": [
    "#Nesterov Accelarated Gradient(NAG)"
   ]
  },
  {
   "cell_type": "code",
   "execution_count": 14,
   "id": "cc23de60",
   "metadata": {},
   "outputs": [
    {
     "name": "stdout",
     "output_type": "stream",
     "text": [
      "Epoch 1/10\n",
      "1875/1875 [==============================] - 4s 2ms/step - loss: 0.1809 - accuracy: 0.9560 - val_loss: 0.2385 - val_accuracy: 0.9564\n",
      "Epoch 2/10\n",
      "1875/1875 [==============================] - 4s 2ms/step - loss: 0.1738 - accuracy: 0.9576 - val_loss: 0.2000 - val_accuracy: 0.9604\n",
      "Epoch 3/10\n",
      "1875/1875 [==============================] - 4s 2ms/step - loss: 0.1652 - accuracy: 0.9596 - val_loss: 0.2272 - val_accuracy: 0.9602\n",
      "Epoch 4/10\n",
      "1875/1875 [==============================] - 4s 2ms/step - loss: 0.1715 - accuracy: 0.9590 - val_loss: 0.1914 - val_accuracy: 0.9645\n",
      "Epoch 5/10\n",
      "1875/1875 [==============================] - 4s 2ms/step - loss: 0.1538 - accuracy: 0.9631 - val_loss: 0.1950 - val_accuracy: 0.9646\n",
      "Epoch 6/10\n",
      "1875/1875 [==============================] - 4s 2ms/step - loss: 0.1433 - accuracy: 0.9650 - val_loss: 0.1936 - val_accuracy: 0.9622\n",
      "Epoch 7/10\n",
      "1875/1875 [==============================] - 4s 2ms/step - loss: 0.1559 - accuracy: 0.9635 - val_loss: 0.2296 - val_accuracy: 0.9622\n",
      "Epoch 8/10\n",
      "1875/1875 [==============================] - 4s 2ms/step - loss: 0.1646 - accuracy: 0.9609 - val_loss: 0.2559 - val_accuracy: 0.9574\n",
      "Epoch 9/10\n",
      "1875/1875 [==============================] - 4s 2ms/step - loss: 0.1573 - accuracy: 0.9633 - val_loss: 0.2158 - val_accuracy: 0.9640\n",
      "Epoch 10/10\n",
      "1875/1875 [==============================] - 4s 2ms/step - loss: 0.1569 - accuracy: 0.9642 - val_loss: 0.2307 - val_accuracy: 0.9615\n"
     ]
    },
    {
     "data": {
      "text/plain": [
       "<keras.callbacks.History at 0x2285dac9460>"
      ]
     },
     "execution_count": 14,
     "metadata": {},
     "output_type": "execute_result"
    }
   ],
   "source": [
    "optimizer3 = keras.optimizers.SGD(learning_rate=0.1, momentum=0.9, nesterov=True)\n",
    "model.compile(loss='sparse_categorical_crossentropy',optimizer=optimizer3,metrics=['accuracy'])\n",
    "model.fit(X_train, Y_train, validation_data=(X_test, Y_test), epochs=10)"
   ]
  },
  {
   "cell_type": "code",
   "execution_count": 15,
   "id": "093b5e80",
   "metadata": {},
   "outputs": [],
   "source": [
    "#Adam Optimizer"
   ]
  },
  {
   "cell_type": "code",
   "execution_count": 16,
   "id": "7003b056",
   "metadata": {},
   "outputs": [
    {
     "name": "stdout",
     "output_type": "stream",
     "text": [
      "Epoch 1/10\n",
      "1875/1875 [==============================] - 5s 2ms/step - loss: 0.2599 - accuracy: 0.9467 - val_loss: 0.2559 - val_accuracy: 0.9562\n",
      "Epoch 2/10\n",
      "1875/1875 [==============================] - 4s 2ms/step - loss: 0.2305 - accuracy: 0.9481 - val_loss: 0.2614 - val_accuracy: 0.9536\n",
      "Epoch 3/10\n",
      "1875/1875 [==============================] - 4s 2ms/step - loss: 0.2091 - accuracy: 0.9515 - val_loss: 0.2508 - val_accuracy: 0.9542\n",
      "Epoch 4/10\n",
      "1875/1875 [==============================] - 4s 2ms/step - loss: 0.2099 - accuracy: 0.9525 - val_loss: 0.2788 - val_accuracy: 0.9566\n",
      "Epoch 5/10\n",
      "1875/1875 [==============================] - 4s 2ms/step - loss: 0.1884 - accuracy: 0.9558 - val_loss: 0.2113 - val_accuracy: 0.9635\n",
      "Epoch 6/10\n",
      "1875/1875 [==============================] - 4s 2ms/step - loss: 0.1870 - accuracy: 0.9568 - val_loss: 0.2501 - val_accuracy: 0.9595\n",
      "Epoch 7/10\n",
      "1875/1875 [==============================] - 3s 2ms/step - loss: 0.1868 - accuracy: 0.9569 - val_loss: 0.2583 - val_accuracy: 0.9580\n",
      "Epoch 8/10\n",
      "1875/1875 [==============================] - 3s 2ms/step - loss: 0.1798 - accuracy: 0.9585 - val_loss: 0.2358 - val_accuracy: 0.9635\n",
      "Epoch 9/10\n",
      "1875/1875 [==============================] - 3s 2ms/step - loss: 0.1736 - accuracy: 0.9609 - val_loss: 0.2466 - val_accuracy: 0.9636\n",
      "Epoch 10/10\n",
      "1875/1875 [==============================] - 4s 2ms/step - loss: 0.1708 - accuracy: 0.9608 - val_loss: 0.2548 - val_accuracy: 0.9643\n"
     ]
    },
    {
     "data": {
      "text/plain": [
       "<keras.callbacks.History at 0x2285ccfa490>"
      ]
     },
     "execution_count": 16,
     "metadata": {},
     "output_type": "execute_result"
    }
   ],
   "source": [
    "optimizer4 = keras.optimizers.Adam(learning_rate=0.01)\n",
    "model.compile(loss='sparse_categorical_crossentropy',optimizer=optimizer4,metrics=['accuracy'])\n",
    "model.fit(X_train, Y_train, validation_data=(X_test, Y_test), epochs=10)"
   ]
  },
  {
   "cell_type": "code",
   "execution_count": 17,
   "id": "57f23e8a",
   "metadata": {},
   "outputs": [
    {
     "name": "stdout",
     "output_type": "stream",
     "text": [
      "Epoch 1/10\n",
      "938/938 [==============================] - 3s 3ms/step - loss: 0.1440 - accuracy: 0.9675 - val_loss: 0.2229 - val_accuracy: 0.9700\n",
      "Epoch 2/10\n",
      "938/938 [==============================] - 2s 2ms/step - loss: 0.1313 - accuracy: 0.9686 - val_loss: 0.2280 - val_accuracy: 0.9664\n",
      "Epoch 3/10\n",
      "938/938 [==============================] - 2s 2ms/step - loss: 0.1242 - accuracy: 0.9696 - val_loss: 0.2485 - val_accuracy: 0.9660\n",
      "Epoch 4/10\n",
      "938/938 [==============================] - 2s 2ms/step - loss: 0.1253 - accuracy: 0.9697 - val_loss: 0.2794 - val_accuracy: 0.9661\n",
      "Epoch 5/10\n",
      "938/938 [==============================] - 2s 2ms/step - loss: 0.1169 - accuracy: 0.9716 - val_loss: 0.2357 - val_accuracy: 0.9665\n",
      "Epoch 6/10\n",
      "938/938 [==============================] - 2s 2ms/step - loss: 0.1120 - accuracy: 0.9726 - val_loss: 0.2423 - val_accuracy: 0.9663\n",
      "Epoch 7/10\n",
      "938/938 [==============================] - 2s 2ms/step - loss: 0.1156 - accuracy: 0.9725 - val_loss: 0.2524 - val_accuracy: 0.9685\n",
      "Epoch 8/10\n",
      "938/938 [==============================] - 2s 2ms/step - loss: 0.1208 - accuracy: 0.9718 - val_loss: 0.2485 - val_accuracy: 0.9685\n",
      "Epoch 9/10\n",
      "938/938 [==============================] - 2s 2ms/step - loss: 0.1171 - accuracy: 0.9721 - val_loss: 0.2394 - val_accuracy: 0.9697\n",
      "Epoch 10/10\n",
      "938/938 [==============================] - 2s 2ms/step - loss: 0.1126 - accuracy: 0.9730 - val_loss: 0.2856 - val_accuracy: 0.9662\n"
     ]
    },
    {
     "data": {
      "text/plain": [
       "<keras.callbacks.History at 0x2280d7174c0>"
      ]
     },
     "execution_count": 17,
     "metadata": {},
     "output_type": "execute_result"
    }
   ],
   "source": [
    "#Mini Batch Gradient Descent with Adam optimizer\n",
    "optimizer5 = keras.optimizers.Adam(learning_rate=0.01)\n",
    "model.compile(loss='sparse_categorical_crossentropy',optimizer=optimizer5,metrics=['accuracy'])\n",
    "model.fit(X_train, Y_train, validation_data=(X_test, Y_test), epochs=10,batch_size=64)"
   ]
  },
  {
   "cell_type": "code",
   "execution_count": 18,
   "id": "aa113919",
   "metadata": {
    "scrolled": true
   },
   "outputs": [
    {
     "name": "stdout",
     "output_type": "stream",
     "text": [
      "Epoch 1/10\n",
      "1875/1875 [==============================] - 3s 1ms/step - loss: 0.0891 - accuracy: 0.9773 - val_loss: 0.2566 - val_accuracy: 0.9703\n",
      "Epoch 2/10\n",
      "1875/1875 [==============================] - 3s 1ms/step - loss: 0.0801 - accuracy: 0.9793 - val_loss: 0.2493 - val_accuracy: 0.9709\n",
      "Epoch 3/10\n",
      "1875/1875 [==============================] - 3s 2ms/step - loss: 0.0715 - accuracy: 0.9810 - val_loss: 0.2444 - val_accuracy: 0.9716\n",
      "Epoch 4/10\n",
      "1875/1875 [==============================] - 3s 1ms/step - loss: 0.0694 - accuracy: 0.9816 - val_loss: 0.2418 - val_accuracy: 0.9721\n",
      "Epoch 5/10\n",
      "1875/1875 [==============================] - 2s 1ms/step - loss: 0.0674 - accuracy: 0.9819 - val_loss: 0.2390 - val_accuracy: 0.9725\n",
      "Epoch 6/10\n",
      "1875/1875 [==============================] - 3s 1ms/step - loss: 0.0628 - accuracy: 0.9829 - val_loss: 0.2370 - val_accuracy: 0.9723\n",
      "Epoch 7/10\n",
      "1875/1875 [==============================] - 3s 1ms/step - loss: 0.0651 - accuracy: 0.9822 - val_loss: 0.2360 - val_accuracy: 0.9721\n",
      "Epoch 8/10\n",
      "1875/1875 [==============================] - 3s 1ms/step - loss: 0.0641 - accuracy: 0.9826 - val_loss: 0.2356 - val_accuracy: 0.9728\n",
      "Epoch 9/10\n",
      "1875/1875 [==============================] - 3s 1ms/step - loss: 0.0625 - accuracy: 0.9828 - val_loss: 0.2359 - val_accuracy: 0.9727\n",
      "Epoch 10/10\n",
      "1875/1875 [==============================] - 3s 1ms/step - loss: 0.0617 - accuracy: 0.9826 - val_loss: 0.2358 - val_accuracy: 0.9730\n"
     ]
    },
    {
     "data": {
      "text/plain": [
       "<keras.callbacks.History at 0x2280d2c0040>"
      ]
     },
     "execution_count": 18,
     "metadata": {},
     "output_type": "execute_result"
    }
   ],
   "source": [
    "#AdaGrad Optimizer\n",
    "optimizer6 = keras.optimizers.Adagrad(learning_rate=0.01)\n",
    "model.compile(loss='sparse_categorical_crossentropy',optimizer=optimizer6,metrics=['accuracy'])\n",
    "model.fit(X_train, Y_train, validation_data=(X_test, Y_test), epochs=10)"
   ]
  },
  {
   "cell_type": "code",
   "execution_count": null,
   "id": "275400f1",
   "metadata": {},
   "outputs": [],
   "source": []
  }
 ],
 "metadata": {
  "kernelspec": {
   "display_name": "Python 3 (ipykernel)",
   "language": "python",
   "name": "python3"
  },
  "language_info": {
   "codemirror_mode": {
    "name": "ipython",
    "version": 3
   },
   "file_extension": ".py",
   "mimetype": "text/x-python",
   "name": "python",
   "nbconvert_exporter": "python",
   "pygments_lexer": "ipython3",
   "version": "3.11.1"
  }
 },
 "nbformat": 4,
 "nbformat_minor": 5
}
